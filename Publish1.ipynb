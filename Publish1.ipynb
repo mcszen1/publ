{
 "cells": [
  {
   "cell_type": "code",
   "execution_count": 1,
   "metadata": {},
   "outputs": [
    {
     "name": "stdout",
     "output_type": "stream",
     "text": [
      "Digite 1 para fazer uma consulta do ranking por SEMANA.\n",
      "Digite 2 para fazer uma consulta por ranking por MÊS.\n",
      "Digite 3 para fazer uma consulta do ranking por ANO.\n",
      "Digite o número da sua escolha: 3\n",
      "VOCÊ TEM 10 ANOS DISPONÍVEIS:\n",
      "['2019', '2018', '2017', '2016', '2015', '2014', '2013', '2012', '2011', '2010']\n",
      "Digite exatamente a ano no formato XXXX: 2015\n",
      "https://www.publishnews.com.br/ranking/anual/0/2015/0/0\n",
      "Busca no endereço:https://www.publishnews.com.br/ranking/anual/0/2015/0/0\n",
      "TOP FIVE:\n",
      "         volume                          nome                autor  \\\n",
      "numero                                                               \n",
      "1       719.626                Jardim secreto      Johanna Basford   \n",
      "2       485.222            Floresta encantada      Johanna Basford   \n",
      "3       446.653                        Philia  Padre Marcelo Rossi   \n",
      "4       316.465               Nada a perder 3          Edir Macedo   \n",
      "5       197.461  Muito mais que 5inco minutos      Kéfera Buchmann   \n",
      "\n",
      "                  editora                    isbn             categoria  \\\n",
      "numero                                                                    \n",
      "1                Sextante  ISBN 978-85-43101-63-7  Categoria Não ficção   \n",
      "2                Sextante  ISBN 978-85-43101-95-8  Categoria Não ficção   \n",
      "3              Principium  ISBN 978-85-25060-04-4   Categoria Autoajuda   \n",
      "4       Planeta do Brasil  ISBN 978-85-42204-14-8  Categoria Não ficção   \n",
      "5                Paralela  ISBN 978-85-84390-11-3  Categoria Não ficção   \n",
      "\n",
      "                 preco      paginas  \n",
      "numero                               \n",
      "1       Preço R$ 29,90   Páginas 96  \n",
      "2       Preço R$ 24,90   Páginas 84  \n",
      "3       Preço R$ 19,90  Páginas 136  \n",
      "4       Preço R$ 37,90  Páginas 304  \n",
      "5       Preço R$ 24,90  Páginas 136  \n",
      "\n",
      "Gravado arquivo com o nome: Consulta2015.csv\n",
      "TAREFA CONCLUIDA\n",
      "\n",
      "QUER FAZER NOVA CONSULTA ?\n",
      "\n",
      "DIGITE 1 PARA SIM OU DIGITE 2 PARA SAIR.\n",
      "DIGITE O NÚMERO DA SUA ESCOLHA :2\n",
      "ATÉ A PRÓXIMA !\n"
     ]
    }
   ],
   "source": [
    "%run Publiall.py"
   ]
  },
  {
   "cell_type": "code",
   "execution_count": null,
   "metadata": {},
   "outputs": [],
   "source": []
  }
 ],
 "metadata": {
  "kernelspec": {
   "display_name": "Python 3",
   "language": "python",
   "name": "python3"
  },
  "language_info": {
   "codemirror_mode": {
    "name": "ipython",
    "version": 3
   },
   "file_extension": ".py",
   "mimetype": "text/x-python",
   "name": "python",
   "nbconvert_exporter": "python",
   "pygments_lexer": "ipython3",
   "version": "3.6.3"
  }
 },
 "nbformat": 4,
 "nbformat_minor": 2
}
